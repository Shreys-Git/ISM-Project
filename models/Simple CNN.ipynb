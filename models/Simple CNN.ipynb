{
 "cells": [
  {
   "cell_type": "code",
   "execution_count": 3,
   "id": "8f7e531a",
   "metadata": {},
   "outputs": [],
   "source": [
    "# Import the required Libraries \n",
    "import numpy as np\n",
    "import keras\n",
    "from keras import backend as K\n",
    "from keras.models import Sequential\n",
    "from keras.layers import Activation\n",
    "from keras.layers.core import Dense, Flatten\n",
    "from tensorflow.keras.optimizers import Adam \n",
    "from keras.metrics import categorical_crossentropy\n",
    "from keras.preprocessing.image import ImageDataGenerator\n",
    "from tensorflow.keras.layers import BatchNormalization\n",
    "from keras.layers.convolutional import *\n",
    "from sklearn.metrics import confusion_matrix\n",
    "import itertools\n",
    "import matplotlib.pyplot as plt\n",
    "%matplotlib inline"
   ]
  },
  {
   "cell_type": "code",
   "execution_count": 4,
   "id": "918be79e",
   "metadata": {},
   "outputs": [],
   "source": [
    "# Set up the paths \n",
    "train_path = r'C:\\Users\\Shreyash\\Desktop\\ISM Project\\train'\n",
    "valid_path = r'C:\\Users\\Shreyash\\Desktop\\ISM Project\\val'\n",
    "test_path = r'C:\\Users\\Shreyash\\Desktop\\ISM Project\\test'"
   ]
  },
  {
   "cell_type": "code",
   "execution_count": null,
   "id": "d7c14b7c",
   "metadata": {},
   "outputs": [],
   "source": []
  }
 ],
 "metadata": {
  "kernelspec": {
   "display_name": "Python 3 (ipykernel)",
   "language": "python",
   "name": "python3"
  },
  "language_info": {
   "codemirror_mode": {
    "name": "ipython",
    "version": 3
   },
   "file_extension": ".py",
   "mimetype": "text/x-python",
   "name": "python",
   "nbconvert_exporter": "python",
   "pygments_lexer": "ipython3",
   "version": "3.9.8"
  }
 },
 "nbformat": 4,
 "nbformat_minor": 5
}
